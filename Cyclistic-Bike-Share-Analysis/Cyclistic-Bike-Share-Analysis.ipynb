{
 "cells": [
  {
   "cell_type": "markdown",
   "id": "d7e53762",
   "metadata": {},
   "source": [
    "                                      Google Data Analytics Capstone                                                   \n",
    "                                           Cyclistic Case study\n",
    "                           \n",
    "                                 How does a Bike-Share Navigate Speedy Success ?"
   ]
  },
  {
   "cell_type": "markdown",
   "id": "64a71a3c",
   "metadata": {},
   "source": [
    "### **Introduction**\n",
    "In order to answer the key buisness questions we will follow the stages of the data analysis process:-\n",
    "* **Ask**\n",
    "* **prepare**\n",
    "* **process**\n",
    "* **Analyse**\n",
    "* **Share**\n",
    "* **Act**\n",
    "\n",
    "These stages would be applied in this case study....."
   ]
  },
  {
   "cell_type": "markdown",
   "id": "6aafb083",
   "metadata": {},
   "source": [
    "### **Ask**\n",
    "\n",
    "The main goal of this project is to ensure design marketing strategies that would convert casual riders into annual members.Therefore, the focus will be centered on the bike usage behaviour of bike riders for a period of 18 months.\n",
    "\n",
    "**Guiding questions and answers**\n",
    "\n",
    "**1.** What is the problem you are trying to solve?\n",
    "\n",
    "* we are trying to solve how we can convert Casual riders into annual members because members are more profitable\n",
    "\n",
    "**2.** How can your insights drive business decisions?\n",
    "\n",
    "* when we analyze the data we would be able to draw data-driven decisions for the business, and the insights will help the marketing team to increase annual members.\n",
    "\n",
    "**Key Tasks**\n",
    "1. Identify the business task\n",
    "\n",
    "* How do annual members and casual riders use Cyclistic bikes\n",
    "differently?\n",
    "2. Consider key stakeholders\n",
    "\n",
    "* **The Primary Stakeholder**: Lily Moreno (Director and Manager)\n",
    "* **The Secondary Stakeholders**: Cyclistic Executive Members and Marketing Analytics Team.\n",
    "\n",
    "**Deliverable**\n",
    "1. A clear statement of the business task\n",
    "\n",
    "> *The director of marketing believes the company’s future success depends on maximizing the number of annual memberships. Therefore, marketing team wants to understand **how casual riders and annual members use Cyclistic bikes differently**. From these insights, team will design a new marketing strategy to convert casual riders into annual members.*\n"
   ]
  },
  {
   "cell_type": "markdown",
   "id": "e78979f4",
   "metadata": {},
   "source": [
    "### **Prepare**\n",
    "The data was available to be downloaded from the official site of [Kaggle](https://www.kaggle.com/diegopinedaperez/google-data-analytics-capstone-case-study-1) under the licence agreement and data-privacy issues prohibits us from using the rider's personally identifiable information. \n",
    "I will be using Python programming language to access and analyze the data.\n",
    "The data provided here is a second party data and is reliable because it comes from the source that has experiences in bike traffic analysis. On the other hand, the data does not seem to be Sampling biased because it covers almost all the region in Chicago.\n",
    "\n",
    "**Guiding questions**\n",
    "\n",
    "**1.** Where is your data located?\n",
    "\n",
    "    Data is located on [kaggle](https://www.kaggle.com/diegopinedaperez/google-data-analytics-capstone-case-study-1)\n",
    "\n",
    "**2.** How is the data organized?\n",
    "\n",
    "    The data is separated by month, each on it's own csv file format.\n",
    "\n",
    "**3.** Are there issues with bias or credibility in this data? Does your data ROCCC?\n",
    "\n",
    "    Bias isn't a problem, the population of the dataset is it's own clients as bike riders. And have full credibility for the same reason. And finally, it's ROCCC because it's reliable, original, comprehensive, current and cited.\n",
    "\n",
    "**4.** How are you addressing licensing, privacy, security, and accessibility?\n",
    "\n",
    "    The company has their own licence over the dataset. Besides that, the dataset doesn't have any personal information about the riders.\n",
    "\n",
    "**5.** How did you verify the data’s integrity?\n",
    "\n",
    "    All the files have consistent columns and each column has the correct type of data.\n",
    "\n",
    "**6.** How does it help you answer your question?\n",
    "\n",
    "    It may have some key insights about the riders and their riding style\n",
    "\n",
    "**7.** Are there any problems with the data?\n",
    "\n",
    "    Yes, there were negative in a non-negative column and It would be good to have some updated information about the bike stations. Also more information about the riders could be useful.\n",
    "\n",
    "**Key tasks**\n",
    "1. Download data and store it appropriately.\n",
    "2. Identify how it’s organized.\n",
    "3. Sort and filter the data.\n",
    "4. Determine the credibility of the data.\n",
    "\n",
    "**Deliverable**\n",
    "1. A description of all data sources used\n",
    "\n",
    "> *The main data source is 12 months (Between January 2021 and December 2021) of riding data provided by the Cicylistic company.*\n",
    "\n",
    "\n"
   ]
  },
  {
   "cell_type": "code",
   "execution_count": 1,
   "id": "a5b8722d",
   "metadata": {},
   "outputs": [],
   "source": [
    "# importing the python libraries \n",
    "import numpy as np\n",
    "import pandas as pd"
   ]
  },
  {
   "cell_type": "code",
   "execution_count": 2,
   "id": "cfcefb01",
   "metadata": {},
   "outputs": [],
   "source": [
    "# Reading the csv dataset \n",
    "jan_2021 = pd.read_csv(r\".\\Divvy_Trips_2021\\Divvy_Trips_2021_Q1_01.csv\")\n",
    "feb_2021 = pd.read_csv(r\".\\Divvy_Trips_2021\\Divvy_Trips_2021_Q1_02.csv\")\n",
    "mar_2021 = pd.read_csv(r\".\\Divvy_Trips_2021\\Divvy_Trips_2021_Q1_03.csv\")\n",
    "apr_2021 = pd.read_csv(r\".\\Divvy_Trips_2021\\Divvy_Trips_2021_Q2_04.csv\")\n",
    "may_2021 = pd.read_csv(r\".\\Divvy_Trips_2021\\Divvy_Trips_2021_Q2_05.csv\")\n",
    "jun_2021 = pd.read_csv(r\".\\Divvy_Trips_2021\\Divvy_Trips_2021_Q2_06.csv\")\n",
    "jul_2021 = pd.read_csv(r\".\\Divvy_Trips_2021\\Divvy_Trips_2021_Q3_07.csv\")\n",
    "aug_2021 = pd.read_csv(r\".\\Divvy_Trips_2021\\Divvy_Trips_2021_Q3_08.csv\")\n",
    "sep_2021 = pd.read_csv(r\".\\Divvy_Trips_2021\\Divvy_Trips_2021_Q3_09.csv\")\n",
    "oct_2021 = pd.read_csv(r\".\\Divvy_Trips_2021\\Divvy_Trips_2021_Q4_10.csv\")\n",
    "nov_2021 = pd.read_csv(r\".\\Divvy_Trips_2021\\Divvy_Trips_2021_Q4_11.csv\")\n",
    "dec_2021 = pd.read_csv(r\".\\Divvy_Trips_2021\\Divvy_Trips_2021_Q4_12.csv\")"
   ]
  },
  {
   "cell_type": "code",
   "execution_count": 3,
   "id": "1ae67ca9",
   "metadata": {},
   "outputs": [],
   "source": [
    "#Concatenating Dataframes into single Dataframe\n",
    "dataset = [jan_2021, feb_2021, mar_2021, apr_2021, may_2021, jun_2021,jul_2021, aug_2021, sep_2021, oct_2021, nov_2021, dec_2021]\n",
    "dataset = pd.concat(dataset)"
   ]
  },
  {
   "cell_type": "code",
   "execution_count": 4,
   "id": "2d278dc0",
   "metadata": {},
   "outputs": [
    {
     "data": {
      "text/html": [
       "<div>\n",
       "<style scoped>\n",
       "    .dataframe tbody tr th:only-of-type {\n",
       "        vertical-align: middle;\n",
       "    }\n",
       "\n",
       "    .dataframe tbody tr th {\n",
       "        vertical-align: top;\n",
       "    }\n",
       "\n",
       "    .dataframe thead th {\n",
       "        text-align: right;\n",
       "    }\n",
       "</style>\n",
       "<table border=\"1\" class=\"dataframe\">\n",
       "  <thead>\n",
       "    <tr style=\"text-align: right;\">\n",
       "      <th></th>\n",
       "      <th>ride_id</th>\n",
       "      <th>rideable_type</th>\n",
       "      <th>started_at</th>\n",
       "      <th>ended_at</th>\n",
       "      <th>start_station_name</th>\n",
       "      <th>start_station_id</th>\n",
       "      <th>end_station_name</th>\n",
       "      <th>end_station_id</th>\n",
       "      <th>start_lat</th>\n",
       "      <th>start_lng</th>\n",
       "      <th>end_lat</th>\n",
       "      <th>end_lng</th>\n",
       "      <th>member_casual</th>\n",
       "    </tr>\n",
       "  </thead>\n",
       "  <tbody>\n",
       "    <tr>\n",
       "      <th>0</th>\n",
       "      <td>E19E6F1B8D4C42ED</td>\n",
       "      <td>electric_bike</td>\n",
       "      <td>2021-01-23 16:14:19</td>\n",
       "      <td>2021-01-23 16:24:44</td>\n",
       "      <td>California Ave &amp; Cortez St</td>\n",
       "      <td>17660</td>\n",
       "      <td>NaN</td>\n",
       "      <td>NaN</td>\n",
       "      <td>41.900341</td>\n",
       "      <td>-87.696743</td>\n",
       "      <td>41.89</td>\n",
       "      <td>-87.72</td>\n",
       "      <td>member</td>\n",
       "    </tr>\n",
       "    <tr>\n",
       "      <th>1</th>\n",
       "      <td>DC88F20C2C55F27F</td>\n",
       "      <td>electric_bike</td>\n",
       "      <td>2021-01-27 18:43:08</td>\n",
       "      <td>2021-01-27 18:47:12</td>\n",
       "      <td>California Ave &amp; Cortez St</td>\n",
       "      <td>17660</td>\n",
       "      <td>NaN</td>\n",
       "      <td>NaN</td>\n",
       "      <td>41.900333</td>\n",
       "      <td>-87.696707</td>\n",
       "      <td>41.90</td>\n",
       "      <td>-87.69</td>\n",
       "      <td>member</td>\n",
       "    </tr>\n",
       "    <tr>\n",
       "      <th>2</th>\n",
       "      <td>EC45C94683FE3F27</td>\n",
       "      <td>electric_bike</td>\n",
       "      <td>2021-01-21 22:35:54</td>\n",
       "      <td>2021-01-21 22:37:14</td>\n",
       "      <td>California Ave &amp; Cortez St</td>\n",
       "      <td>17660</td>\n",
       "      <td>NaN</td>\n",
       "      <td>NaN</td>\n",
       "      <td>41.900313</td>\n",
       "      <td>-87.696643</td>\n",
       "      <td>41.90</td>\n",
       "      <td>-87.70</td>\n",
       "      <td>member</td>\n",
       "    </tr>\n",
       "    <tr>\n",
       "      <th>3</th>\n",
       "      <td>4FA453A75AE377DB</td>\n",
       "      <td>electric_bike</td>\n",
       "      <td>2021-01-07 13:31:13</td>\n",
       "      <td>2021-01-07 13:42:55</td>\n",
       "      <td>California Ave &amp; Cortez St</td>\n",
       "      <td>17660</td>\n",
       "      <td>NaN</td>\n",
       "      <td>NaN</td>\n",
       "      <td>41.900399</td>\n",
       "      <td>-87.696662</td>\n",
       "      <td>41.92</td>\n",
       "      <td>-87.69</td>\n",
       "      <td>member</td>\n",
       "    </tr>\n",
       "    <tr>\n",
       "      <th>4</th>\n",
       "      <td>BE5E8EB4E7263A0B</td>\n",
       "      <td>electric_bike</td>\n",
       "      <td>2021-01-23 02:24:02</td>\n",
       "      <td>2021-01-23 02:24:45</td>\n",
       "      <td>California Ave &amp; Cortez St</td>\n",
       "      <td>17660</td>\n",
       "      <td>NaN</td>\n",
       "      <td>NaN</td>\n",
       "      <td>41.900326</td>\n",
       "      <td>-87.696697</td>\n",
       "      <td>41.90</td>\n",
       "      <td>-87.70</td>\n",
       "      <td>casual</td>\n",
       "    </tr>\n",
       "  </tbody>\n",
       "</table>\n",
       "</div>"
      ],
      "text/plain": [
       "            ride_id  rideable_type           started_at             ended_at  \\\n",
       "0  E19E6F1B8D4C42ED  electric_bike  2021-01-23 16:14:19  2021-01-23 16:24:44   \n",
       "1  DC88F20C2C55F27F  electric_bike  2021-01-27 18:43:08  2021-01-27 18:47:12   \n",
       "2  EC45C94683FE3F27  electric_bike  2021-01-21 22:35:54  2021-01-21 22:37:14   \n",
       "3  4FA453A75AE377DB  electric_bike  2021-01-07 13:31:13  2021-01-07 13:42:55   \n",
       "4  BE5E8EB4E7263A0B  electric_bike  2021-01-23 02:24:02  2021-01-23 02:24:45   \n",
       "\n",
       "           start_station_name start_station_id end_station_name  \\\n",
       "0  California Ave & Cortez St            17660              NaN   \n",
       "1  California Ave & Cortez St            17660              NaN   \n",
       "2  California Ave & Cortez St            17660              NaN   \n",
       "3  California Ave & Cortez St            17660              NaN   \n",
       "4  California Ave & Cortez St            17660              NaN   \n",
       "\n",
       "  end_station_id  start_lat  start_lng  end_lat  end_lng member_casual  \n",
       "0            NaN  41.900341 -87.696743    41.89   -87.72        member  \n",
       "1            NaN  41.900333 -87.696707    41.90   -87.69        member  \n",
       "2            NaN  41.900313 -87.696643    41.90   -87.70        member  \n",
       "3            NaN  41.900399 -87.696662    41.92   -87.69        member  \n",
       "4            NaN  41.900326 -87.696697    41.90   -87.70        casual  "
      ]
     },
     "execution_count": 4,
     "metadata": {},
     "output_type": "execute_result"
    }
   ],
   "source": [
    "# looking at the dataset \n",
    "dataset.head()"
   ]
  },
  {
   "cell_type": "code",
   "execution_count": 5,
   "id": "36793acd",
   "metadata": {},
   "outputs": [
    {
     "data": {
      "text/plain": [
       "(5595063, 13)"
      ]
     },
     "execution_count": 5,
     "metadata": {},
     "output_type": "execute_result"
    }
   ],
   "source": [
    "#checking the number of rows and columns in the dataset\n",
    "dataset.shape "
   ]
  },
  {
   "cell_type": "code",
   "execution_count": 6,
   "id": "4f82bac7",
   "metadata": {},
   "outputs": [
    {
     "name": "stdout",
     "output_type": "stream",
     "text": [
      "<class 'pandas.core.frame.DataFrame'>\n",
      "Int64Index: 5595063 entries, 0 to 247539\n",
      "Data columns (total 13 columns):\n",
      " #   Column              Dtype  \n",
      "---  ------              -----  \n",
      " 0   ride_id             object \n",
      " 1   rideable_type       object \n",
      " 2   started_at          object \n",
      " 3   ended_at            object \n",
      " 4   start_station_name  object \n",
      " 5   start_station_id    object \n",
      " 6   end_station_name    object \n",
      " 7   end_station_id      object \n",
      " 8   start_lat           float64\n",
      " 9   start_lng           float64\n",
      " 10  end_lat             float64\n",
      " 11  end_lng             float64\n",
      " 12  member_casual       object \n",
      "dtypes: float64(4), object(9)\n",
      "memory usage: 3.5 GB\n"
     ]
    }
   ],
   "source": [
    "# checking the datatypes of each columns \n",
    "dataset.info(memory_usage='deep')"
   ]
  },
  {
   "cell_type": "code",
   "execution_count": 7,
   "id": "ed77a2b4",
   "metadata": {},
   "outputs": [],
   "source": [
    "# Converting datetime\n",
    "dataset[\"started_at\"] = pd.to_datetime(dataset[\"started_at\"])\n",
    "dataset[\"ended_at\"] = pd.to_datetime(dataset[\"ended_at\"])"
   ]
  },
  {
   "cell_type": "code",
   "execution_count": 8,
   "id": "6f5d3ac0",
   "metadata": {},
   "outputs": [],
   "source": [
    "#Downcasting columns\n",
    "dataset[\"start_lat\"]=pd.to_numeric(dataset[\"start_lat\"],downcast='float')\n",
    "dataset[\"start_lng\"]=pd.to_numeric(dataset[\"start_lng\"],downcast='float')\n",
    "dataset[\"end_lat\"]=pd.to_numeric(dataset[\"start_lat\"],downcast='float')\n",
    "dataset[\"end_lng\"]=pd.to_numeric(dataset[\"start_lat\"],downcast='float')"
   ]
  },
  {
   "cell_type": "code",
   "execution_count": 9,
   "id": "ed347bd0",
   "metadata": {},
   "outputs": [
    {
     "data": {
      "text/html": [
       "<div>\n",
       "<style scoped>\n",
       "    .dataframe tbody tr th:only-of-type {\n",
       "        vertical-align: middle;\n",
       "    }\n",
       "\n",
       "    .dataframe tbody tr th {\n",
       "        vertical-align: top;\n",
       "    }\n",
       "\n",
       "    .dataframe thead th {\n",
       "        text-align: right;\n",
       "    }\n",
       "</style>\n",
       "<table border=\"1\" class=\"dataframe\">\n",
       "  <thead>\n",
       "    <tr style=\"text-align: right;\">\n",
       "      <th></th>\n",
       "      <th>ride_id</th>\n",
       "      <th>rideable_type</th>\n",
       "      <th>start_station_name</th>\n",
       "      <th>start_station_id</th>\n",
       "      <th>end_station_name</th>\n",
       "      <th>end_station_id</th>\n",
       "      <th>member_casual</th>\n",
       "    </tr>\n",
       "  </thead>\n",
       "  <tbody>\n",
       "    <tr>\n",
       "      <th>count</th>\n",
       "      <td>5595063</td>\n",
       "      <td>5595063</td>\n",
       "      <td>4904254</td>\n",
       "      <td>4904257</td>\n",
       "      <td>4855893</td>\n",
       "      <td>4855893</td>\n",
       "      <td>5595063</td>\n",
       "    </tr>\n",
       "    <tr>\n",
       "      <th>unique</th>\n",
       "      <td>5595063</td>\n",
       "      <td>3</td>\n",
       "      <td>847</td>\n",
       "      <td>834</td>\n",
       "      <td>844</td>\n",
       "      <td>832</td>\n",
       "      <td>2</td>\n",
       "    </tr>\n",
       "    <tr>\n",
       "      <th>top</th>\n",
       "      <td>E19E6F1B8D4C42ED</td>\n",
       "      <td>classic_bike</td>\n",
       "      <td>Streeter Dr &amp; Grand Ave</td>\n",
       "      <td>13022</td>\n",
       "      <td>Streeter Dr &amp; Grand Ave</td>\n",
       "      <td>13022</td>\n",
       "      <td>member</td>\n",
       "    </tr>\n",
       "    <tr>\n",
       "      <th>freq</th>\n",
       "      <td>1</td>\n",
       "      <td>3251028</td>\n",
       "      <td>82715</td>\n",
       "      <td>82715</td>\n",
       "      <td>83390</td>\n",
       "      <td>83390</td>\n",
       "      <td>3066058</td>\n",
       "    </tr>\n",
       "  </tbody>\n",
       "</table>\n",
       "</div>"
      ],
      "text/plain": [
       "                 ride_id rideable_type       start_station_name  \\\n",
       "count            5595063       5595063                  4904254   \n",
       "unique           5595063             3                      847   \n",
       "top     E19E6F1B8D4C42ED  classic_bike  Streeter Dr & Grand Ave   \n",
       "freq                   1       3251028                    82715   \n",
       "\n",
       "       start_station_id         end_station_name end_station_id member_casual  \n",
       "count           4904257                  4855893        4855893       5595063  \n",
       "unique              834                      844            832             2  \n",
       "top               13022  Streeter Dr & Grand Ave          13022        member  \n",
       "freq              82715                    83390          83390       3066058  "
      ]
     },
     "execution_count": 9,
     "metadata": {},
     "output_type": "execute_result"
    }
   ],
   "source": [
    "dataset.select_dtypes(include=['object']).describe()"
   ]
  },
  {
   "cell_type": "code",
   "execution_count": 10,
   "id": "333b80b8",
   "metadata": {},
   "outputs": [],
   "source": [
    "dataset=dataset.astype({\"rideable_type\":'category',\"start_station_name\":'category',\"start_station_id\":'category',\"end_station_name\":'category',\"end_station_id\":'category',\"member_casual\":'category'})"
   ]
  },
  {
   "cell_type": "code",
   "execution_count": 11,
   "id": "9848fb72",
   "metadata": {
    "scrolled": true
   },
   "outputs": [
    {
     "data": {
      "text/plain": [
       "ride_id                    0\n",
       "rideable_type              0\n",
       "started_at                 0\n",
       "ended_at                   0\n",
       "start_station_name    690809\n",
       "start_station_id      690806\n",
       "end_station_name      739170\n",
       "end_station_id        739170\n",
       "start_lat                  0\n",
       "start_lng                  0\n",
       "end_lat                    0\n",
       "end_lng                    0\n",
       "member_casual              0\n",
       "dtype: int64"
      ]
     },
     "execution_count": 11,
     "metadata": {},
     "output_type": "execute_result"
    }
   ],
   "source": [
    "dataset.isnull().sum()"
   ]
  },
  {
   "cell_type": "code",
   "execution_count": 12,
   "id": "bb9eb745",
   "metadata": {},
   "outputs": [],
   "source": [
    "dataset.dropna(how='any',axis=0,inplace=True)"
   ]
  },
  {
   "cell_type": "code",
   "execution_count": 13,
   "id": "5e29462e",
   "metadata": {},
   "outputs": [
    {
     "data": {
      "text/plain": [
       "False"
      ]
     },
     "execution_count": 13,
     "metadata": {},
     "output_type": "execute_result"
    }
   ],
   "source": [
    "dataset.duplicated().any()"
   ]
  },
  {
   "cell_type": "code",
   "execution_count": 14,
   "id": "846142a0",
   "metadata": {},
   "outputs": [
    {
     "name": "stdout",
     "output_type": "stream",
     "text": [
      "<class 'pandas.core.frame.DataFrame'>\n",
      "Int64Index: 4588302 entries, 9 to 247539\n",
      "Data columns (total 13 columns):\n",
      " #   Column              Dtype         \n",
      "---  ------              -----         \n",
      " 0   ride_id             object        \n",
      " 1   rideable_type       category      \n",
      " 2   started_at          datetime64[ns]\n",
      " 3   ended_at            datetime64[ns]\n",
      " 4   start_station_name  category      \n",
      " 5   start_station_id    category      \n",
      " 6   end_station_name    category      \n",
      " 7   end_station_id      category      \n",
      " 8   start_lat           float32       \n",
      " 9   start_lng           float32       \n",
      " 10  end_lat             float32       \n",
      " 11  end_lng             float32       \n",
      " 12  member_casual       category      \n",
      "dtypes: category(6), datetime64[ns](2), float32(4), object(1)\n",
      "memory usage: 538.6 MB\n"
     ]
    }
   ],
   "source": [
    "dataset.info(memory_usage='deep')"
   ]
  },
  {
   "cell_type": "code",
   "execution_count": 15,
   "id": "604f9a15",
   "metadata": {},
   "outputs": [
    {
     "name": "stdout",
     "output_type": "stream",
     "text": [
      "Data memory has reduced up to 84.97 %\n"
     ]
    }
   ],
   "source": [
    "# Data memory has reduced up to....\n",
    "a=(1-(538.6/(3.5*1024)))*100\n",
    "print(\"Data memory has reduced up to {} %\".format(round(a,2)))"
   ]
  },
  {
   "cell_type": "markdown",
   "id": "dc61c725",
   "metadata": {},
   "source": [
    "### **Process**\n",
    "The process stage is to ensure that the data is ready for analysis.\n",
    "\n",
    "**Guiding questions**\n",
    "\n",
    "**1.** What tools are you choosing and why?\n",
    "    \n",
    "    Python, because python is very effective to anlayse such a large dataset\n",
    "\n",
    "**2.** Have you ensured your data’s integrity?\n",
    "    \n",
    "    Yes, Data has been clean from the above code\n",
    "\n",
    "**3.** What steps have you taken to ensure that your data is clean?\n",
    "\n",
    "    No duplicates where found,remove negative values from a non-negative coulmn and remove NaN values and rows from the data\n",
    "\n",
    "**4.** How can you verify that your data is clean and ready to analyze?\n",
    "\n",
    "    Since our data is not having any duplicates, missing values, and unneccessary data so we can verify that our data is now cleaned\n",
    "\n",
    "**5.** Have you documented your cleaning process so you can review and share those results?\n",
    "\n",
    "    Yes I have, along with the code\n",
    "\n",
    "**Key tasks**\n",
    "1. Check the data for errors.\n",
    "2. Choose your tools.\n",
    "3. Transform the data so you can work with it effectively.\n",
    "4. Document the cleaning process.\n",
    "\n",
    "**Deliverable**\n",
    "1. Documentation of any cleaning or manipulation of data"
   ]
  },
  {
   "cell_type": "markdown",
   "id": "748e46d4",
   "metadata": {},
   "source": [
    "###  Data Cleaning\n",
    "The stage is to clean the data and make it availble for analyses to get our recommendations at the act stages.\n"
   ]
  },
  {
   "cell_type": "code",
   "execution_count": 16,
   "id": "2875ffd5",
   "metadata": {},
   "outputs": [
    {
     "data": {
      "text/html": [
       "<div>\n",
       "<style scoped>\n",
       "    .dataframe tbody tr th:only-of-type {\n",
       "        vertical-align: middle;\n",
       "    }\n",
       "\n",
       "    .dataframe tbody tr th {\n",
       "        vertical-align: top;\n",
       "    }\n",
       "\n",
       "    .dataframe thead th {\n",
       "        text-align: right;\n",
       "    }\n",
       "</style>\n",
       "<table border=\"1\" class=\"dataframe\">\n",
       "  <thead>\n",
       "    <tr style=\"text-align: right;\">\n",
       "      <th></th>\n",
       "      <th>ride_id</th>\n",
       "      <th>rideable_type</th>\n",
       "      <th>started_at</th>\n",
       "      <th>ended_at</th>\n",
       "      <th>start_station_name</th>\n",
       "      <th>start_station_id</th>\n",
       "      <th>end_station_name</th>\n",
       "      <th>end_station_id</th>\n",
       "      <th>start_lat</th>\n",
       "      <th>start_lng</th>\n",
       "      <th>end_lat</th>\n",
       "      <th>end_lng</th>\n",
       "      <th>member_casual</th>\n",
       "    </tr>\n",
       "  </thead>\n",
       "  <tbody>\n",
       "    <tr>\n",
       "      <th>9</th>\n",
       "      <td>B9F73448DFBE0D45</td>\n",
       "      <td>classic_bike</td>\n",
       "      <td>2021-01-24 19:15:38</td>\n",
       "      <td>2021-01-24 19:22:51</td>\n",
       "      <td>California Ave &amp; Cortez St</td>\n",
       "      <td>17660</td>\n",
       "      <td>Wood St &amp; Augusta Blvd</td>\n",
       "      <td>657</td>\n",
       "      <td>41.900364</td>\n",
       "      <td>-87.696701</td>\n",
       "      <td>41.900364</td>\n",
       "      <td>41.900364</td>\n",
       "      <td>member</td>\n",
       "    </tr>\n",
       "    <tr>\n",
       "      <th>10</th>\n",
       "      <td>457C7F4B5D3DA135</td>\n",
       "      <td>electric_bike</td>\n",
       "      <td>2021-01-23 12:57:38</td>\n",
       "      <td>2021-01-23 13:02:10</td>\n",
       "      <td>California Ave &amp; Cortez St</td>\n",
       "      <td>17660</td>\n",
       "      <td>California Ave &amp; North Ave</td>\n",
       "      <td>13258</td>\n",
       "      <td>41.900406</td>\n",
       "      <td>-87.696732</td>\n",
       "      <td>41.900406</td>\n",
       "      <td>41.900406</td>\n",
       "      <td>member</td>\n",
       "    </tr>\n",
       "    <tr>\n",
       "      <th>11</th>\n",
       "      <td>57C750326F9FDABE</td>\n",
       "      <td>electric_bike</td>\n",
       "      <td>2021-01-09 15:28:04</td>\n",
       "      <td>2021-01-09 15:37:51</td>\n",
       "      <td>California Ave &amp; Cortez St</td>\n",
       "      <td>17660</td>\n",
       "      <td>Wood St &amp; Augusta Blvd</td>\n",
       "      <td>657</td>\n",
       "      <td>41.900375</td>\n",
       "      <td>-87.696686</td>\n",
       "      <td>41.900375</td>\n",
       "      <td>41.900375</td>\n",
       "      <td>casual</td>\n",
       "    </tr>\n",
       "    <tr>\n",
       "      <th>12</th>\n",
       "      <td>4D518C65E338D070</td>\n",
       "      <td>electric_bike</td>\n",
       "      <td>2021-01-09 15:28:57</td>\n",
       "      <td>2021-01-09 15:37:54</td>\n",
       "      <td>California Ave &amp; Cortez St</td>\n",
       "      <td>17660</td>\n",
       "      <td>Wood St &amp; Augusta Blvd</td>\n",
       "      <td>657</td>\n",
       "      <td>41.900379</td>\n",
       "      <td>-87.696716</td>\n",
       "      <td>41.900379</td>\n",
       "      <td>41.900379</td>\n",
       "      <td>casual</td>\n",
       "    </tr>\n",
       "    <tr>\n",
       "      <th>13</th>\n",
       "      <td>9D08A3AFF410474D</td>\n",
       "      <td>classic_bike</td>\n",
       "      <td>2021-01-24 15:56:59</td>\n",
       "      <td>2021-01-24 16:07:08</td>\n",
       "      <td>California Ave &amp; Cortez St</td>\n",
       "      <td>17660</td>\n",
       "      <td>Wood St &amp; Augusta Blvd</td>\n",
       "      <td>657</td>\n",
       "      <td>41.900364</td>\n",
       "      <td>-87.696701</td>\n",
       "      <td>41.900364</td>\n",
       "      <td>41.900364</td>\n",
       "      <td>casual</td>\n",
       "    </tr>\n",
       "  </tbody>\n",
       "</table>\n",
       "</div>"
      ],
      "text/plain": [
       "             ride_id  rideable_type          started_at            ended_at  \\\n",
       "9   B9F73448DFBE0D45   classic_bike 2021-01-24 19:15:38 2021-01-24 19:22:51   \n",
       "10  457C7F4B5D3DA135  electric_bike 2021-01-23 12:57:38 2021-01-23 13:02:10   \n",
       "11  57C750326F9FDABE  electric_bike 2021-01-09 15:28:04 2021-01-09 15:37:51   \n",
       "12  4D518C65E338D070  electric_bike 2021-01-09 15:28:57 2021-01-09 15:37:54   \n",
       "13  9D08A3AFF410474D   classic_bike 2021-01-24 15:56:59 2021-01-24 16:07:08   \n",
       "\n",
       "            start_station_name start_station_id            end_station_name  \\\n",
       "9   California Ave & Cortez St            17660      Wood St & Augusta Blvd   \n",
       "10  California Ave & Cortez St            17660  California Ave & North Ave   \n",
       "11  California Ave & Cortez St            17660      Wood St & Augusta Blvd   \n",
       "12  California Ave & Cortez St            17660      Wood St & Augusta Blvd   \n",
       "13  California Ave & Cortez St            17660      Wood St & Augusta Blvd   \n",
       "\n",
       "   end_station_id  start_lat  start_lng    end_lat    end_lng member_casual  \n",
       "9             657  41.900364 -87.696701  41.900364  41.900364        member  \n",
       "10          13258  41.900406 -87.696732  41.900406  41.900406        member  \n",
       "11            657  41.900375 -87.696686  41.900375  41.900375        casual  \n",
       "12            657  41.900379 -87.696716  41.900379  41.900379        casual  \n",
       "13            657  41.900364 -87.696701  41.900364  41.900364        casual  "
      ]
     },
     "execution_count": 16,
     "metadata": {},
     "output_type": "execute_result"
    }
   ],
   "source": [
    "dataset.head()"
   ]
  },
  {
   "cell_type": "code",
   "execution_count": 17,
   "id": "b132a264",
   "metadata": {},
   "outputs": [],
   "source": [
    "dataset.rename(columns = {'member_casual': 'user_type'}, inplace=True)"
   ]
  },
  {
   "cell_type": "code",
   "execution_count": 18,
   "id": "0b82c13c",
   "metadata": {},
   "outputs": [
    {
     "data": {
      "text/plain": [
       "array(['January', 'February', 'March', 'April', 'May', 'June', 'July',\n",
       "       'August', 'September', 'October', 'November', 'December'],\n",
       "      dtype=object)"
      ]
     },
     "execution_count": 18,
     "metadata": {},
     "output_type": "execute_result"
    }
   ],
   "source": [
    "month_dict = {1:\"January\", 2:\"February\", 3:\"March\", 4:\"April\", 5:\"May\", 6:\"June\", 7:\"July\", 8:\"August\", 9:\"September\", 10:\"October\", 11:\"November\", 12:\"December\"}\n",
    "dataset[\"month\"]= dataset['started_at'].dt.month.map(month_dict)\n",
    "dataset[\"month\"].unique()"
   ]
  },
  {
   "cell_type": "code",
   "execution_count": 19,
   "id": "64a5958a",
   "metadata": {},
   "outputs": [
    {
     "data": {
      "text/plain": [
       "array(['Saturday', 'Friday', 'Thursday', 'Monday', 'Tuesday', 'Sunday',\n",
       "       'Wednesday'], dtype=object)"
      ]
     },
     "execution_count": 19,
     "metadata": {},
     "output_type": "execute_result"
    }
   ],
   "source": [
    "day_dict = {0:\"Sunday\", 1:\"Monday\", 2:\"Tuesday\", 3:\"Wednesday\", 4:\"Thursday\", 5:\"Friday\", 6:\"Saturday\"}\n",
    "dataset[\"day\"]= dataset[\"started_at\"].dt.dayofweek.map(day_dict)\n",
    "dataset[\"day\"].unique()"
   ]
  },
  {
   "cell_type": "code",
   "execution_count": 20,
   "id": "00fa8a38",
   "metadata": {},
   "outputs": [],
   "source": [
    "dataset[\"weekend\"] = np.where(dataset[\"started_at\"].dt.dayofweek>5, 'weekend', 'weekday')"
   ]
  },
  {
   "cell_type": "code",
   "execution_count": 21,
   "id": "ee4b85af",
   "metadata": {},
   "outputs": [
    {
     "data": {
      "text/plain": [
       "array([19, 12, 15, 10, 11,  7,  8, 13,  9, 21,  1, 20,  0, 16, 17, 22, 14,\n",
       "       18, 23,  6,  2,  4,  5,  3], dtype=int64)"
      ]
     },
     "execution_count": 21,
     "metadata": {},
     "output_type": "execute_result"
    }
   ],
   "source": [
    "dataset[\"hour\"] = dataset[\"started_at\"].dt.hour\n",
    "dataset[\"hour\"].unique()"
   ]
  },
  {
   "cell_type": "code",
   "execution_count": 22,
   "id": "07806587",
   "metadata": {},
   "outputs": [],
   "source": [
    "# Trip Duration in seconds\n",
    "dataset[\"duration\"] = ((dataset[\"ended_at\"] - dataset[\"started_at\"])/np.timedelta64(1,'s')).astype('float').round(0)"
   ]
  },
  {
   "cell_type": "code",
   "execution_count": 23,
   "id": "b5180bb9",
   "metadata": {},
   "outputs": [
    {
     "data": {
      "text/html": [
       "<div>\n",
       "<style scoped>\n",
       "    .dataframe tbody tr th:only-of-type {\n",
       "        vertical-align: middle;\n",
       "    }\n",
       "\n",
       "    .dataframe tbody tr th {\n",
       "        vertical-align: top;\n",
       "    }\n",
       "\n",
       "    .dataframe thead th {\n",
       "        text-align: right;\n",
       "    }\n",
       "</style>\n",
       "<table border=\"1\" class=\"dataframe\">\n",
       "  <thead>\n",
       "    <tr style=\"text-align: right;\">\n",
       "      <th></th>\n",
       "      <th>ride_id</th>\n",
       "      <th>rideable_type</th>\n",
       "      <th>started_at</th>\n",
       "      <th>ended_at</th>\n",
       "      <th>start_station_name</th>\n",
       "      <th>start_station_id</th>\n",
       "      <th>end_station_name</th>\n",
       "      <th>end_station_id</th>\n",
       "      <th>start_lat</th>\n",
       "      <th>start_lng</th>\n",
       "      <th>end_lat</th>\n",
       "      <th>end_lng</th>\n",
       "      <th>user_type</th>\n",
       "      <th>month</th>\n",
       "      <th>day</th>\n",
       "      <th>weekend</th>\n",
       "      <th>hour</th>\n",
       "      <th>duration</th>\n",
       "    </tr>\n",
       "  </thead>\n",
       "  <tbody>\n",
       "    <tr>\n",
       "      <th>9</th>\n",
       "      <td>B9F73448DFBE0D45</td>\n",
       "      <td>classic_bike</td>\n",
       "      <td>2021-01-24 19:15:38</td>\n",
       "      <td>2021-01-24 19:22:51</td>\n",
       "      <td>California Ave &amp; Cortez St</td>\n",
       "      <td>17660</td>\n",
       "      <td>Wood St &amp; Augusta Blvd</td>\n",
       "      <td>657</td>\n",
       "      <td>0.731299</td>\n",
       "      <td>-1.530596</td>\n",
       "      <td>0.731299</td>\n",
       "      <td>0.731299</td>\n",
       "      <td>member</td>\n",
       "      <td>January</td>\n",
       "      <td>Saturday</td>\n",
       "      <td>weekend</td>\n",
       "      <td>19</td>\n",
       "      <td>433.0</td>\n",
       "    </tr>\n",
       "    <tr>\n",
       "      <th>10</th>\n",
       "      <td>457C7F4B5D3DA135</td>\n",
       "      <td>electric_bike</td>\n",
       "      <td>2021-01-23 12:57:38</td>\n",
       "      <td>2021-01-23 13:02:10</td>\n",
       "      <td>California Ave &amp; Cortez St</td>\n",
       "      <td>17660</td>\n",
       "      <td>California Ave &amp; North Ave</td>\n",
       "      <td>13258</td>\n",
       "      <td>0.731300</td>\n",
       "      <td>-1.530597</td>\n",
       "      <td>0.731300</td>\n",
       "      <td>0.731300</td>\n",
       "      <td>member</td>\n",
       "      <td>January</td>\n",
       "      <td>Friday</td>\n",
       "      <td>weekday</td>\n",
       "      <td>12</td>\n",
       "      <td>272.0</td>\n",
       "    </tr>\n",
       "    <tr>\n",
       "      <th>11</th>\n",
       "      <td>57C750326F9FDABE</td>\n",
       "      <td>electric_bike</td>\n",
       "      <td>2021-01-09 15:28:04</td>\n",
       "      <td>2021-01-09 15:37:51</td>\n",
       "      <td>California Ave &amp; Cortez St</td>\n",
       "      <td>17660</td>\n",
       "      <td>Wood St &amp; Augusta Blvd</td>\n",
       "      <td>657</td>\n",
       "      <td>0.731300</td>\n",
       "      <td>-1.530596</td>\n",
       "      <td>0.731300</td>\n",
       "      <td>0.731300</td>\n",
       "      <td>casual</td>\n",
       "      <td>January</td>\n",
       "      <td>Friday</td>\n",
       "      <td>weekday</td>\n",
       "      <td>15</td>\n",
       "      <td>587.0</td>\n",
       "    </tr>\n",
       "    <tr>\n",
       "      <th>12</th>\n",
       "      <td>4D518C65E338D070</td>\n",
       "      <td>electric_bike</td>\n",
       "      <td>2021-01-09 15:28:57</td>\n",
       "      <td>2021-01-09 15:37:54</td>\n",
       "      <td>California Ave &amp; Cortez St</td>\n",
       "      <td>17660</td>\n",
       "      <td>Wood St &amp; Augusta Blvd</td>\n",
       "      <td>657</td>\n",
       "      <td>0.731300</td>\n",
       "      <td>-1.530596</td>\n",
       "      <td>0.731300</td>\n",
       "      <td>0.731300</td>\n",
       "      <td>casual</td>\n",
       "      <td>January</td>\n",
       "      <td>Friday</td>\n",
       "      <td>weekday</td>\n",
       "      <td>15</td>\n",
       "      <td>537.0</td>\n",
       "    </tr>\n",
       "    <tr>\n",
       "      <th>13</th>\n",
       "      <td>9D08A3AFF410474D</td>\n",
       "      <td>classic_bike</td>\n",
       "      <td>2021-01-24 15:56:59</td>\n",
       "      <td>2021-01-24 16:07:08</td>\n",
       "      <td>California Ave &amp; Cortez St</td>\n",
       "      <td>17660</td>\n",
       "      <td>Wood St &amp; Augusta Blvd</td>\n",
       "      <td>657</td>\n",
       "      <td>0.731299</td>\n",
       "      <td>-1.530596</td>\n",
       "      <td>0.731299</td>\n",
       "      <td>0.731299</td>\n",
       "      <td>casual</td>\n",
       "      <td>January</td>\n",
       "      <td>Saturday</td>\n",
       "      <td>weekend</td>\n",
       "      <td>15</td>\n",
       "      <td>609.0</td>\n",
       "    </tr>\n",
       "  </tbody>\n",
       "</table>\n",
       "</div>"
      ],
      "text/plain": [
       "             ride_id  rideable_type          started_at            ended_at  \\\n",
       "9   B9F73448DFBE0D45   classic_bike 2021-01-24 19:15:38 2021-01-24 19:22:51   \n",
       "10  457C7F4B5D3DA135  electric_bike 2021-01-23 12:57:38 2021-01-23 13:02:10   \n",
       "11  57C750326F9FDABE  electric_bike 2021-01-09 15:28:04 2021-01-09 15:37:51   \n",
       "12  4D518C65E338D070  electric_bike 2021-01-09 15:28:57 2021-01-09 15:37:54   \n",
       "13  9D08A3AFF410474D   classic_bike 2021-01-24 15:56:59 2021-01-24 16:07:08   \n",
       "\n",
       "            start_station_name start_station_id            end_station_name  \\\n",
       "9   California Ave & Cortez St            17660      Wood St & Augusta Blvd   \n",
       "10  California Ave & Cortez St            17660  California Ave & North Ave   \n",
       "11  California Ave & Cortez St            17660      Wood St & Augusta Blvd   \n",
       "12  California Ave & Cortez St            17660      Wood St & Augusta Blvd   \n",
       "13  California Ave & Cortez St            17660      Wood St & Augusta Blvd   \n",
       "\n",
       "   end_station_id  start_lat  start_lng   end_lat   end_lng user_type  \\\n",
       "9             657   0.731299  -1.530596  0.731299  0.731299    member   \n",
       "10          13258   0.731300  -1.530597  0.731300  0.731300    member   \n",
       "11            657   0.731300  -1.530596  0.731300  0.731300    casual   \n",
       "12            657   0.731300  -1.530596  0.731300  0.731300    casual   \n",
       "13            657   0.731299  -1.530596  0.731299  0.731299    casual   \n",
       "\n",
       "      month       day  weekend  hour  duration  \n",
       "9   January  Saturday  weekend    19     433.0  \n",
       "10  January    Friday  weekday    12     272.0  \n",
       "11  January    Friday  weekday    15     587.0  \n",
       "12  January    Friday  weekday    15     537.0  \n",
       "13  January  Saturday  weekend    15     609.0  "
      ]
     },
     "execution_count": 23,
     "metadata": {},
     "output_type": "execute_result"
    }
   ],
   "source": [
    "# Coordinates_converted from degrees to radians\n",
    "dataset[[\"start_lat\",\"start_lng\",\"end_lat\",\"end_lng\"]]=dataset[[\"start_lat\",\"start_lng\",\"end_lat\",\"end_lng\"]]*np.pi/180\n",
    "dataset.head()"
   ]
  },
  {
   "cell_type": "code",
   "execution_count": 24,
   "id": "19bcc0fa",
   "metadata": {},
   "outputs": [],
   "source": [
    "# 1 Nautical Mile = 1.852 Kilometers\n",
    "# Trip Distance in Kilometers\n",
    "dataset[\"distance\"]=3440.1*np.arccos((np.sin(dataset[\"start_lat\"])*np.sin(dataset[\"end_lat\"]))+np.cos(dataset[\"start_lat\"])*np.cos(dataset[\"end_lat\"])*np.cos(dataset[\"start_lng\"]-dataset[\"end_lng\"]))*1.852"
   ]
  },
  {
   "cell_type": "code",
   "execution_count": 25,
   "id": "569a637c",
   "metadata": {},
   "outputs": [
    {
     "data": {
      "text/plain": [
       "count    4588302.00\n",
       "mean        1308.64\n",
       "std        11065.50\n",
       "min        -3354.00\n",
       "25%          417.00\n",
       "50%          732.00\n",
       "75%         1327.00\n",
       "max      3356649.00\n",
       "Name: duration, dtype: float64"
      ]
     },
     "execution_count": 25,
     "metadata": {},
     "output_type": "execute_result"
    }
   ],
   "source": [
    "dataset[\"duration\"].describe(include = \"all\").round(2)"
   ]
  },
  {
   "cell_type": "code",
   "execution_count": 26,
   "id": "d6bb975b",
   "metadata": {},
   "outputs": [],
   "source": [
    "# removing outliers by creating filters\n",
    "outliers_trip_duration = (dataset[\"duration\"] < 300) | (dataset[\"duration\"] > 86400)"
   ]
  },
  {
   "cell_type": "code",
   "execution_count": 27,
   "id": "b708967a",
   "metadata": {},
   "outputs": [],
   "source": [
    "dataset=dataset.loc[~outliers_trip_duration,:]"
   ]
  },
  {
   "cell_type": "code",
   "execution_count": 28,
   "id": "32bbf92d",
   "metadata": {},
   "outputs": [],
   "source": [
    "dataset=dataset.astype({\"day\":'category',\"month\":'category',\"weekend\":'category'})"
   ]
  },
  {
   "cell_type": "code",
   "execution_count": 29,
   "id": "ff97afb7",
   "metadata": {},
   "outputs": [
    {
     "name": "stdout",
     "output_type": "stream",
     "text": [
      "<class 'pandas.core.frame.DataFrame'>\n",
      "Int64Index: 3932614 entries, 9 to 247537\n",
      "Data columns (total 19 columns):\n",
      " #   Column              Dtype         \n",
      "---  ------              -----         \n",
      " 0   ride_id             object        \n",
      " 1   rideable_type       category      \n",
      " 2   started_at          datetime64[ns]\n",
      " 3   ended_at            datetime64[ns]\n",
      " 4   start_station_name  category      \n",
      " 5   start_station_id    category      \n",
      " 6   end_station_name    category      \n",
      " 7   end_station_id      category      \n",
      " 8   start_lat           float64       \n",
      " 9   start_lng           float64       \n",
      " 10  end_lat             float64       \n",
      " 11  end_lng             float64       \n",
      " 12  user_type           category      \n",
      " 13  month               category      \n",
      " 14  day                 category      \n",
      " 15  weekend             category      \n",
      " 16  hour                int64         \n",
      " 17  duration            float64       \n",
      " 18  distance            float64       \n",
      "dtypes: category(9), datetime64[ns](2), float64(6), int64(1), object(1)\n",
      "memory usage: 622.9 MB\n"
     ]
    }
   ],
   "source": [
    "dataset.info(memory_usage='deep')"
   ]
  },
  {
   "cell_type": "code",
   "execution_count": 30,
   "id": "67909252",
   "metadata": {},
   "outputs": [],
   "source": [
    "#dataset.to_csv('cyclistic_dataset.csv', index=False)"
   ]
  },
  {
   "cell_type": "code",
   "execution_count": 31,
   "id": "5dbe575e",
   "metadata": {},
   "outputs": [
    {
     "name": "stdout",
     "output_type": "stream",
     "text": [
      "Now Our data is cleaned for further analysis.\n"
     ]
    }
   ],
   "source": [
    "print(\"Now Our data is cleaned for further analysis.\")"
   ]
  },
  {
   "cell_type": "markdown",
   "id": "103d606d",
   "metadata": {},
   "source": [
    "## **Analyze**\n",
    "In this stage we will uncover secrets of our data.\n",
    "\n",
    "**Guiding questions**\n",
    "\n",
    "**1.** How should you organize your data to perform analysis on it?\n",
    "\n",
    "    I have three different dataframe for both members and casual,members only and casual only.\n",
    "\n",
    "**2.** Has your data been properly formatted?\n",
    "\n",
    "    Yes, all the columns have their correct data type.\n",
    "\n",
    "**3.** What surprises did you discover in the data?\n",
    "\n",
    "    Annual Members love to ride on weekdays than weekends which is shoking and viceversa on casual riders.\n",
    "\n",
    "**4.** What trends or relationships did you find in the data?\n",
    "\n",
    "    The relationship between the weekdays and Annual member is high over the past year, the relationship between weekends and casual riders is also high.\n",
    "\n",
    "**5.** How will these insights help answer your business questions?\n",
    "\n",
    "    Now we see the difference between Annual members and Casual riders,we can draw insights and give recommendation and policy for data-driven decision.\n",
    "\n",
    "**Key tasks**\n",
    "1. Aggregate your data so it’s useful and accessible.\n",
    "2. Organize and format your data.\n",
    "3. Perform calculations.\n",
    "4. Identify trends and relationships.\n",
    "\n",
    "**Deliverable**\n",
    "1. A summary of your analysis."
   ]
  },
  {
   "cell_type": "code",
   "execution_count": 32,
   "id": "d71d6564",
   "metadata": {},
   "outputs": [
    {
     "data": {
      "text/html": [
       "<div>\n",
       "<style scoped>\n",
       "    .dataframe tbody tr th:only-of-type {\n",
       "        vertical-align: middle;\n",
       "    }\n",
       "\n",
       "    .dataframe tbody tr th {\n",
       "        vertical-align: top;\n",
       "    }\n",
       "\n",
       "    .dataframe thead th {\n",
       "        text-align: right;\n",
       "    }\n",
       "</style>\n",
       "<table border=\"1\" class=\"dataframe\">\n",
       "  <thead>\n",
       "    <tr style=\"text-align: right;\">\n",
       "      <th></th>\n",
       "      <th>ride_id</th>\n",
       "      <th>rideable_type</th>\n",
       "      <th>started_at</th>\n",
       "      <th>ended_at</th>\n",
       "      <th>start_station_name</th>\n",
       "      <th>start_station_id</th>\n",
       "      <th>end_station_name</th>\n",
       "      <th>end_station_id</th>\n",
       "      <th>start_lat</th>\n",
       "      <th>start_lng</th>\n",
       "      <th>end_lat</th>\n",
       "      <th>end_lng</th>\n",
       "      <th>user_type</th>\n",
       "      <th>month</th>\n",
       "      <th>day</th>\n",
       "      <th>weekend</th>\n",
       "      <th>hour</th>\n",
       "      <th>duration</th>\n",
       "      <th>distance</th>\n",
       "    </tr>\n",
       "  </thead>\n",
       "  <tbody>\n",
       "    <tr>\n",
       "      <th>9</th>\n",
       "      <td>B9F73448DFBE0D45</td>\n",
       "      <td>classic_bike</td>\n",
       "      <td>2021-01-24 19:15:38</td>\n",
       "      <td>2021-01-24 19:22:51</td>\n",
       "      <td>California Ave &amp; Cortez St</td>\n",
       "      <td>17660</td>\n",
       "      <td>Wood St &amp; Augusta Blvd</td>\n",
       "      <td>657</td>\n",
       "      <td>0.731299</td>\n",
       "      <td>-1.530596</td>\n",
       "      <td>0.731299</td>\n",
       "      <td>0.731299</td>\n",
       "      <td>member</td>\n",
       "      <td>January</td>\n",
       "      <td>Saturday</td>\n",
       "      <td>weekend</td>\n",
       "      <td>19</td>\n",
       "      <td>433.0</td>\n",
       "      <td>9414.920186</td>\n",
       "    </tr>\n",
       "    <tr>\n",
       "      <th>11</th>\n",
       "      <td>57C750326F9FDABE</td>\n",
       "      <td>electric_bike</td>\n",
       "      <td>2021-01-09 15:28:04</td>\n",
       "      <td>2021-01-09 15:37:51</td>\n",
       "      <td>California Ave &amp; Cortez St</td>\n",
       "      <td>17660</td>\n",
       "      <td>Wood St &amp; Augusta Blvd</td>\n",
       "      <td>657</td>\n",
       "      <td>0.731300</td>\n",
       "      <td>-1.530596</td>\n",
       "      <td>0.731300</td>\n",
       "      <td>0.731300</td>\n",
       "      <td>casual</td>\n",
       "      <td>January</td>\n",
       "      <td>Friday</td>\n",
       "      <td>weekday</td>\n",
       "      <td>15</td>\n",
       "      <td>587.0</td>\n",
       "      <td>9414.917924</td>\n",
       "    </tr>\n",
       "    <tr>\n",
       "      <th>12</th>\n",
       "      <td>4D518C65E338D070</td>\n",
       "      <td>electric_bike</td>\n",
       "      <td>2021-01-09 15:28:57</td>\n",
       "      <td>2021-01-09 15:37:54</td>\n",
       "      <td>California Ave &amp; Cortez St</td>\n",
       "      <td>17660</td>\n",
       "      <td>Wood St &amp; Augusta Blvd</td>\n",
       "      <td>657</td>\n",
       "      <td>0.731300</td>\n",
       "      <td>-1.530596</td>\n",
       "      <td>0.731300</td>\n",
       "      <td>0.731300</td>\n",
       "      <td>casual</td>\n",
       "      <td>January</td>\n",
       "      <td>Friday</td>\n",
       "      <td>weekday</td>\n",
       "      <td>15</td>\n",
       "      <td>537.0</td>\n",
       "      <td>9414.918867</td>\n",
       "    </tr>\n",
       "    <tr>\n",
       "      <th>13</th>\n",
       "      <td>9D08A3AFF410474D</td>\n",
       "      <td>classic_bike</td>\n",
       "      <td>2021-01-24 15:56:59</td>\n",
       "      <td>2021-01-24 16:07:08</td>\n",
       "      <td>California Ave &amp; Cortez St</td>\n",
       "      <td>17660</td>\n",
       "      <td>Wood St &amp; Augusta Blvd</td>\n",
       "      <td>657</td>\n",
       "      <td>0.731299</td>\n",
       "      <td>-1.530596</td>\n",
       "      <td>0.731299</td>\n",
       "      <td>0.731299</td>\n",
       "      <td>casual</td>\n",
       "      <td>January</td>\n",
       "      <td>Saturday</td>\n",
       "      <td>weekend</td>\n",
       "      <td>15</td>\n",
       "      <td>609.0</td>\n",
       "      <td>9414.920186</td>\n",
       "    </tr>\n",
       "    <tr>\n",
       "      <th>14</th>\n",
       "      <td>49FCE1F8598F12C6</td>\n",
       "      <td>electric_bike</td>\n",
       "      <td>2021-01-22 15:15:28</td>\n",
       "      <td>2021-01-22 15:36:01</td>\n",
       "      <td>California Ave &amp; Cortez St</td>\n",
       "      <td>17660</td>\n",
       "      <td>Wells St &amp; Elm St</td>\n",
       "      <td>KA1504000135</td>\n",
       "      <td>0.731299</td>\n",
       "      <td>-1.530598</td>\n",
       "      <td>0.731299</td>\n",
       "      <td>0.731299</td>\n",
       "      <td>member</td>\n",
       "      <td>January</td>\n",
       "      <td>Thursday</td>\n",
       "      <td>weekday</td>\n",
       "      <td>15</td>\n",
       "      <td>1233.0</td>\n",
       "      <td>9414.923527</td>\n",
       "    </tr>\n",
       "  </tbody>\n",
       "</table>\n",
       "</div>"
      ],
      "text/plain": [
       "             ride_id  rideable_type          started_at            ended_at  \\\n",
       "9   B9F73448DFBE0D45   classic_bike 2021-01-24 19:15:38 2021-01-24 19:22:51   \n",
       "11  57C750326F9FDABE  electric_bike 2021-01-09 15:28:04 2021-01-09 15:37:51   \n",
       "12  4D518C65E338D070  electric_bike 2021-01-09 15:28:57 2021-01-09 15:37:54   \n",
       "13  9D08A3AFF410474D   classic_bike 2021-01-24 15:56:59 2021-01-24 16:07:08   \n",
       "14  49FCE1F8598F12C6  electric_bike 2021-01-22 15:15:28 2021-01-22 15:36:01   \n",
       "\n",
       "            start_station_name start_station_id        end_station_name  \\\n",
       "9   California Ave & Cortez St            17660  Wood St & Augusta Blvd   \n",
       "11  California Ave & Cortez St            17660  Wood St & Augusta Blvd   \n",
       "12  California Ave & Cortez St            17660  Wood St & Augusta Blvd   \n",
       "13  California Ave & Cortez St            17660  Wood St & Augusta Blvd   \n",
       "14  California Ave & Cortez St            17660       Wells St & Elm St   \n",
       "\n",
       "   end_station_id  start_lat  start_lng   end_lat   end_lng user_type  \\\n",
       "9             657   0.731299  -1.530596  0.731299  0.731299    member   \n",
       "11            657   0.731300  -1.530596  0.731300  0.731300    casual   \n",
       "12            657   0.731300  -1.530596  0.731300  0.731300    casual   \n",
       "13            657   0.731299  -1.530596  0.731299  0.731299    casual   \n",
       "14   KA1504000135   0.731299  -1.530598  0.731299  0.731299    member   \n",
       "\n",
       "      month       day  weekend  hour  duration     distance  \n",
       "9   January  Saturday  weekend    19     433.0  9414.920186  \n",
       "11  January    Friday  weekday    15     587.0  9414.917924  \n",
       "12  January    Friday  weekday    15     537.0  9414.918867  \n",
       "13  January  Saturday  weekend    15     609.0  9414.920186  \n",
       "14  January  Thursday  weekday    15    1233.0  9414.923527  "
      ]
     },
     "execution_count": 32,
     "metadata": {},
     "output_type": "execute_result"
    }
   ],
   "source": [
    "dataset.head()"
   ]
  },
  {
   "cell_type": "code",
   "execution_count": 33,
   "id": "160320ea",
   "metadata": {},
   "outputs": [
    {
     "data": {
      "text/html": [
       "<div>\n",
       "<style scoped>\n",
       "    .dataframe tbody tr th:only-of-type {\n",
       "        vertical-align: middle;\n",
       "    }\n",
       "\n",
       "    .dataframe tbody tr th {\n",
       "        vertical-align: top;\n",
       "    }\n",
       "\n",
       "    .dataframe thead th {\n",
       "        text-align: right;\n",
       "    }\n",
       "</style>\n",
       "<table border=\"1\" class=\"dataframe\">\n",
       "  <thead>\n",
       "    <tr style=\"text-align: right;\">\n",
       "      <th></th>\n",
       "      <th>duration</th>\n",
       "      <th>distance</th>\n",
       "    </tr>\n",
       "  </thead>\n",
       "  <tbody>\n",
       "    <tr>\n",
       "      <th>count</th>\n",
       "      <td>3.932614e+06</td>\n",
       "      <td>3.932614e+06</td>\n",
       "    </tr>\n",
       "    <tr>\n",
       "      <th>mean</th>\n",
       "      <td>1.359185e+03</td>\n",
       "      <td>9.411966e+03</td>\n",
       "    </tr>\n",
       "    <tr>\n",
       "      <th>std</th>\n",
       "      <td>2.294841e+03</td>\n",
       "      <td>4.782057e+00</td>\n",
       "    </tr>\n",
       "    <tr>\n",
       "      <th>min</th>\n",
       "      <td>3.000000e+02</td>\n",
       "      <td>9.392359e+03</td>\n",
       "    </tr>\n",
       "    <tr>\n",
       "      <th>25%</th>\n",
       "      <td>5.390000e+02</td>\n",
       "      <td>9.409233e+03</td>\n",
       "    </tr>\n",
       "    <tr>\n",
       "      <th>50%</th>\n",
       "      <td>8.540000e+02</td>\n",
       "      <td>9.412371e+03</td>\n",
       "    </tr>\n",
       "    <tr>\n",
       "      <th>75%</th>\n",
       "      <td>1.474000e+03</td>\n",
       "      <td>9.414547e+03</td>\n",
       "    </tr>\n",
       "    <tr>\n",
       "      <th>max</th>\n",
       "      <td>8.636200e+04</td>\n",
       "      <td>9.444654e+03</td>\n",
       "    </tr>\n",
       "  </tbody>\n",
       "</table>\n",
       "</div>"
      ],
      "text/plain": [
       "           duration      distance\n",
       "count  3.932614e+06  3.932614e+06\n",
       "mean   1.359185e+03  9.411966e+03\n",
       "std    2.294841e+03  4.782057e+00\n",
       "min    3.000000e+02  9.392359e+03\n",
       "25%    5.390000e+02  9.409233e+03\n",
       "50%    8.540000e+02  9.412371e+03\n",
       "75%    1.474000e+03  9.414547e+03\n",
       "max    8.636200e+04  9.444654e+03"
      ]
     },
     "execution_count": 33,
     "metadata": {},
     "output_type": "execute_result"
    }
   ],
   "source": [
    "# Descriptive Statistics \n",
    "dataset[['duration','distance']].describe()"
   ]
  },
  {
   "cell_type": "code",
   "execution_count": 34,
   "id": "e694be48",
   "metadata": {},
   "outputs": [
    {
     "data": {
      "text/plain": [
       "3932614"
      ]
     },
     "execution_count": 34,
     "metadata": {},
     "output_type": "execute_result"
    }
   ],
   "source": [
    "len(dataset)"
   ]
  },
  {
   "cell_type": "code",
   "execution_count": 35,
   "id": "8fbf7fc7",
   "metadata": {},
   "outputs": [
    {
     "data": {
      "text/plain": [
       "member    2036092\n",
       "casual    1896522\n",
       "Name: user_type, dtype: int64"
      ]
     },
     "execution_count": 35,
     "metadata": {},
     "output_type": "execute_result"
    }
   ],
   "source": [
    "dataset['user_type'].value_counts()"
   ]
  },
  {
   "cell_type": "code",
   "execution_count": 36,
   "id": "e72cedfb",
   "metadata": {},
   "outputs": [
    {
     "data": {
      "text/plain": [
       "member    51.77\n",
       "casual    48.23\n",
       "Name: user_type, dtype: float64"
      ]
     },
     "execution_count": 36,
     "metadata": {},
     "output_type": "execute_result"
    }
   ],
   "source": [
    "round((dataset['user_type'].value_counts()/len(dataset))*100,2)"
   ]
  },
  {
   "cell_type": "code",
   "execution_count": 37,
   "id": "6e9090e0",
   "metadata": {},
   "outputs": [],
   "source": [
    "#there are 20,36,092 members- 51.77%\n",
    "#there are 18,96,522 casual riders- 48.23%"
   ]
  },
  {
   "cell_type": "code",
   "execution_count": 38,
   "id": "a2c831f8",
   "metadata": {},
   "outputs": [
    {
     "data": {
      "text/plain": [
       "user_type\n",
       "casual    9411.981740\n",
       "member    9411.951224\n",
       "Name: distance, dtype: float64"
      ]
     },
     "execution_count": 38,
     "metadata": {},
     "output_type": "execute_result"
    }
   ],
   "source": [
    "dataset.groupby('user_type')['distance'].mean()"
   ]
  },
  {
   "cell_type": "code",
   "execution_count": null,
   "id": "383cea49",
   "metadata": {},
   "outputs": [],
   "source": []
  },
  {
   "cell_type": "markdown",
   "id": "371023d7",
   "metadata": {},
   "source": [
    "**Analysing the member data and casual data simultaneously**"
   ]
  },
  {
   "cell_type": "code",
   "execution_count": 39,
   "id": "f4e34a05",
   "metadata": {
    "scrolled": true
   },
   "outputs": [
    {
     "data": {
      "text/plain": [
       "user_type  rideable_type\n",
       "casual     classic_bike     1168905\n",
       "           docked_bike       302796\n",
       "           electric_bike     424821\n",
       "member     classic_bike     1598937\n",
       "           docked_bike            0\n",
       "           electric_bike     437155\n",
       "Name: rideable_type, dtype: int64"
      ]
     },
     "execution_count": 39,
     "metadata": {},
     "output_type": "execute_result"
    }
   ],
   "source": [
    "dataset.groupby(['user_type','rideable_type'])['rideable_type'].count()"
   ]
  },
  {
   "cell_type": "code",
   "execution_count": 40,
   "id": "9ef102fd",
   "metadata": {},
   "outputs": [
    {
     "data": {
      "text/plain": [
       "user_type  start_station_name          \n",
       "casual     2112 W Peterson Ave              326\n",
       "           351                                1\n",
       "           63rd St Beach                   1363\n",
       "           900 W Harrison St               2250\n",
       "           Aberdeen St & Jackson Blvd      3069\n",
       "                                           ... \n",
       "member     Woodlawn Ave & 55th St          2436\n",
       "           Woodlawn Ave & 75th St             7\n",
       "           Woodlawn Ave & Lake Park Ave     680\n",
       "           Yates Blvd & 75th St              32\n",
       "           Yates Blvd & 93rd St              12\n",
       "Name: rideable_type, Length: 1694, dtype: int64"
      ]
     },
     "execution_count": 40,
     "metadata": {},
     "output_type": "execute_result"
    }
   ],
   "source": [
    "dataset.groupby(['user_type','start_station_name'])['rideable_type'].count()"
   ]
  },
  {
   "cell_type": "code",
   "execution_count": 41,
   "id": "0b684c27",
   "metadata": {},
   "outputs": [
    {
     "data": {
      "text/plain": [
       "user_type  end_station_name            \n",
       "casual     2112 W Peterson Ave              396\n",
       "           63rd St Beach                   1446\n",
       "           900 W Harrison St               2125\n",
       "           Aberdeen St & Jackson Blvd      3005\n",
       "           Aberdeen St & Monroe St         3150\n",
       "                                           ... \n",
       "member     Woodlawn Ave & 55th St          2613\n",
       "           Woodlawn Ave & 75th St             6\n",
       "           Woodlawn Ave & Lake Park Ave     598\n",
       "           Yates Blvd & 75th St              27\n",
       "           Yates Blvd & 93rd St              17\n",
       "Name: rideable_type, Length: 1688, dtype: int64"
      ]
     },
     "execution_count": 41,
     "metadata": {},
     "output_type": "execute_result"
    }
   ],
   "source": [
    "dataset.groupby(['user_type','end_station_name'])['rideable_type'].count()"
   ]
  },
  {
   "cell_type": "code",
   "execution_count": 42,
   "id": "452cf49d",
   "metadata": {},
   "outputs": [
    {
     "data": {
      "text/plain": [
       "user_type  day      \n",
       "casual     Friday       439711\n",
       "           Monday       196126\n",
       "           Saturday     379100\n",
       "           Sunday       210857\n",
       "           Thursday     267595\n",
       "           Tuesday      198875\n",
       "           Wednesday    204258\n",
       "member     Friday       296183\n",
       "           Monday       306573\n",
       "           Saturday     257376\n",
       "           Sunday       273246\n",
       "           Thursday     291686\n",
       "           Tuesday      315754\n",
       "           Wednesday    295274\n",
       "Name: rideable_type, dtype: int64"
      ]
     },
     "execution_count": 42,
     "metadata": {},
     "output_type": "execute_result"
    }
   ],
   "source": [
    "dataset.groupby(['user_type','day'])['rideable_type'].count()"
   ]
  },
  {
   "cell_type": "markdown",
   "id": "f2e6990f",
   "metadata": {},
   "source": [
    "## **Share**\n",
    "\n",
    "### **Data Visualisation**\n",
    "This is to show the insights generated from the data through charts, bars and histograms.\n",
    "\n",
    "**Guiding questions**\n",
    "\n",
    "**1.** Were you able to answer the question of how annual members and casual riders use Cyclistic bikes differently?\n",
    "\n",
    "    Yes,Causal riders ride more on the weekends and annual members rides more on weekdays.\n",
    "\n",
    "**2.** What story does your data tell?\n",
    "\n",
    "    It tells us that people love the docked_bikes more than the other two. it tells that riders increases during the middle of the year.\n",
    "\n",
    "**3.** Who is your audience? What is the best way to communicate with them?\n",
    "\n",
    "    The main target audience is my cyclistic marketing analytics team and Lily Moreno. The best way to communicate is through a slide presentation of the findings.\n",
    "\n",
    "**4.** How do your findings relate to your original question?\n",
    "\n",
    "    The original question which is how annual members and casual riders use cyclistic bikes differently. my findings discovered the main differences by the days of the week they prefer to ride.\n",
    "\n",
    "**5.** Can data visualization help you share your findings?\n",
    "\n",
    "    Yes, it does.\n",
    "\n",
    "**6.** Is your presentation accessible to your audience?\n",
    "\n",
    "    Yes, the plots were made using vibrant colors, and corresponding labels.\n",
    "\n",
    "\n",
    "\n",
    "**Key tasks**\n",
    "1. Determine the best way to share your findings.\n",
    "2. Create effective data visualizations.\n",
    "3. Present your findings.\n",
    "4. Ensure your work is accessible.\n",
    "\n",
    "**Deriverable**\n",
    "1. Supporting visualizations and key findings"
   ]
  },
  {
   "cell_type": "code",
   "execution_count": 43,
   "id": "ccd02c0e",
   "metadata": {},
   "outputs": [],
   "source": [
    "#package of visualiation\n",
    "import matplotlib.pyplot as plt"
   ]
  },
  {
   "cell_type": "code",
   "execution_count": 44,
   "id": "14527f9e",
   "metadata": {},
   "outputs": [
    {
     "data": {
      "text/plain": [
       "array([258693, 588917, 134436,  36663,  66834, 609891, 537638, 176153,\n",
       "       396494, 197860, 395015, 534020], dtype=int64)"
      ]
     },
     "execution_count": 44,
     "metadata": {},
     "output_type": "execute_result"
    }
   ],
   "source": [
    "dataset.groupby('month')['ride_id'].count().values"
   ]
  },
  {
   "cell_type": "code",
   "execution_count": 45,
   "id": "2266fe4c",
   "metadata": {},
   "outputs": [
    {
     "data": {
      "image/png": "[encoded data removed]",
      "text/plain": [
       "<Figure size 640x480 with 1 Axes>"
      ]
     },
     "metadata": {},
     "output_type": "display_data"
    }
   ],
   "source": [
    "fig= plt.figure()\n",
    "ax = fig.add_axes([0,0,4,4])\n",
    "ax.barh(dataset.groupby('month')['ride_id'].count().index,dataset.groupby('month')['ride_id'].count().values,color='blue',alpha=0.3)\n",
    "plt.title(\"Monthly Rides\",fontsize=40)\n",
    "plt.ylabel('Month',fontsize=25)\n",
    "plt.yticks(fontsize=20)\n",
    "plt.xlabel('Rides',fontsize=25)\n",
    "plt.xticks(fontsize=20)\n",
    "plt.show()"
   ]
  },
  {
   "cell_type": "code",
   "execution_count": 46,
   "id": "718014da",
   "metadata": {},
   "outputs": [
    {
     "data": {
      "image/png": "[encoded data removed]",
      "text/plain": [
       "<Figure size 640x480 with 1 Axes>"
      ]
     },
     "metadata": {},
     "output_type": "display_data"
    }
   ],
   "source": [
    "dataset.groupby('day')['ride_id'].count().to_frame().plot(kind='bar',legend=False,title='Weekly Rides',color='blue',alpha=0.3);"
   ]
  },
  {
   "cell_type": "code",
   "execution_count": 47,
   "id": "53aab6a1",
   "metadata": {},
   "outputs": [],
   "source": [
    "members=dataset[dataset['user_type']=='member']\n",
    "casuals=dataset[dataset['user_type']=='casual']"
   ]
  },
  {
   "cell_type": "code",
   "execution_count": 48,
   "id": "d9e4ff0e",
   "metadata": {},
   "outputs": [
    {
     "data": {
      "text/html": [
       "<div>\n",
       "<style scoped>\n",
       "    .dataframe tbody tr th:only-of-type {\n",
       "        vertical-align: middle;\n",
       "    }\n",
       "\n",
       "    .dataframe tbody tr th {\n",
       "        vertical-align: top;\n",
       "    }\n",
       "\n",
       "    .dataframe thead th {\n",
       "        text-align: right;\n",
       "    }\n",
       "</style>\n",
       "<table border=\"1\" class=\"dataframe\">\n",
       "  <thead>\n",
       "    <tr style=\"text-align: right;\">\n",
       "      <th></th>\n",
       "      <th>days</th>\n",
       "      <th>counts</th>\n",
       "    </tr>\n",
       "  </thead>\n",
       "  <tbody>\n",
       "    <tr>\n",
       "      <th>0</th>\n",
       "      <td>Friday</td>\n",
       "      <td>296183</td>\n",
       "    </tr>\n",
       "    <tr>\n",
       "      <th>1</th>\n",
       "      <td>Monday</td>\n",
       "      <td>306573</td>\n",
       "    </tr>\n",
       "    <tr>\n",
       "      <th>2</th>\n",
       "      <td>Saturday</td>\n",
       "      <td>257376</td>\n",
       "    </tr>\n",
       "    <tr>\n",
       "      <th>3</th>\n",
       "      <td>Sunday</td>\n",
       "      <td>273246</td>\n",
       "    </tr>\n",
       "    <tr>\n",
       "      <th>4</th>\n",
       "      <td>Thursday</td>\n",
       "      <td>291686</td>\n",
       "    </tr>\n",
       "    <tr>\n",
       "      <th>5</th>\n",
       "      <td>Tuesday</td>\n",
       "      <td>315754</td>\n",
       "    </tr>\n",
       "    <tr>\n",
       "      <th>6</th>\n",
       "      <td>Wednesday</td>\n",
       "      <td>295274</td>\n",
       "    </tr>\n",
       "  </tbody>\n",
       "</table>\n",
       "</div>"
      ],
      "text/plain": [
       "        days  counts\n",
       "0     Friday  296183\n",
       "1     Monday  306573\n",
       "2   Saturday  257376\n",
       "3     Sunday  273246\n",
       "4   Thursday  291686\n",
       "5    Tuesday  315754\n",
       "6  Wednesday  295274"
      ]
     },
     "execution_count": 48,
     "metadata": {},
     "output_type": "execute_result"
    }
   ],
   "source": [
    "#Grouping the days of the week for members only\n",
    "by_days = pd.Series(members['day']).value_counts().sort_index()\n",
    "by_days.index = pd.Index(by_days.index)\n",
    "member_days = by_days.rename_axis('days').reset_index(name='counts')\n",
    "member_days"
   ]
  },
  {
   "cell_type": "code",
   "execution_count": 49,
   "id": "4614dbe6",
   "metadata": {},
   "outputs": [
    {
     "data": {
      "image/png": "[encoded data removed]",
      "text/plain": [
       "<Figure size 640x480 with 1 Axes>"
      ]
     },
     "metadata": {},
     "output_type": "display_data"
    }
   ],
   "source": [
    "#pie chart for members\n",
    "plt.pie(member_days['counts'],labels=member_days['days'],autopct='%1.1f%%')\n",
    "plt.title('Members',fontsize=20)\n",
    "plt.show()"
   ]
  },
  {
   "cell_type": "code",
   "execution_count": 50,
   "id": "b10aa7e3",
   "metadata": {},
   "outputs": [
    {
     "data": {
      "text/html": [
       "<div>\n",
       "<style scoped>\n",
       "    .dataframe tbody tr th:only-of-type {\n",
       "        vertical-align: middle;\n",
       "    }\n",
       "\n",
       "    .dataframe tbody tr th {\n",
       "        vertical-align: top;\n",
       "    }\n",
       "\n",
       "    .dataframe thead th {\n",
       "        text-align: right;\n",
       "    }\n",
       "</style>\n",
       "<table border=\"1\" class=\"dataframe\">\n",
       "  <thead>\n",
       "    <tr style=\"text-align: right;\">\n",
       "      <th></th>\n",
       "      <th>days</th>\n",
       "      <th>counts</th>\n",
       "    </tr>\n",
       "  </thead>\n",
       "  <tbody>\n",
       "    <tr>\n",
       "      <th>0</th>\n",
       "      <td>Friday</td>\n",
       "      <td>439711</td>\n",
       "    </tr>\n",
       "    <tr>\n",
       "      <th>1</th>\n",
       "      <td>Monday</td>\n",
       "      <td>196126</td>\n",
       "    </tr>\n",
       "    <tr>\n",
       "      <th>2</th>\n",
       "      <td>Saturday</td>\n",
       "      <td>379100</td>\n",
       "    </tr>\n",
       "    <tr>\n",
       "      <th>3</th>\n",
       "      <td>Sunday</td>\n",
       "      <td>210857</td>\n",
       "    </tr>\n",
       "    <tr>\n",
       "      <th>4</th>\n",
       "      <td>Thursday</td>\n",
       "      <td>267595</td>\n",
       "    </tr>\n",
       "    <tr>\n",
       "      <th>5</th>\n",
       "      <td>Tuesday</td>\n",
       "      <td>198875</td>\n",
       "    </tr>\n",
       "    <tr>\n",
       "      <th>6</th>\n",
       "      <td>Wednesday</td>\n",
       "      <td>204258</td>\n",
       "    </tr>\n",
       "  </tbody>\n",
       "</table>\n",
       "</div>"
      ],
      "text/plain": [
       "        days  counts\n",
       "0     Friday  439711\n",
       "1     Monday  196126\n",
       "2   Saturday  379100\n",
       "3     Sunday  210857\n",
       "4   Thursday  267595\n",
       "5    Tuesday  198875\n",
       "6  Wednesday  204258"
      ]
     },
     "execution_count": 50,
     "metadata": {},
     "output_type": "execute_result"
    }
   ],
   "source": [
    "#Grouping the days of the week for Casual riders\n",
    "by_days = pd.Series(casuals['day']).value_counts().sort_index()\n",
    "by_days.index = pd.Index(by_days.index)\n",
    "causal_days = by_days.rename_axis('days').reset_index(name='counts')\n",
    "causal_days"
   ]
  },
  {
   "cell_type": "code",
   "execution_count": 51,
   "id": "fe9c864b",
   "metadata": {},
   "outputs": [
    {
     "data": {
      "image/png": "[encoded data removed]",
      "text/plain": [
       "<Figure size 640x480 with 1 Axes>"
      ]
     },
     "metadata": {},
     "output_type": "display_data"
    }
   ],
   "source": [
    "#pie chart for casual riders\n",
    "plt.pie(causal_days['counts'],labels=causal_days['days'],autopct='%1.1f%%')\n",
    "plt.title('Casuals',fontsize=10)\n",
    "plt.show()"
   ]
  },
  {
   "cell_type": "code",
   "execution_count": 52,
   "id": "ec70f17a",
   "metadata": {},
   "outputs": [
    {
     "data": {
      "text/html": [
       "<div>\n",
       "<style scoped>\n",
       "    .dataframe tbody tr th:only-of-type {\n",
       "        vertical-align: middle;\n",
       "    }\n",
       "\n",
       "    .dataframe tbody tr th {\n",
       "        vertical-align: top;\n",
       "    }\n",
       "\n",
       "    .dataframe thead th {\n",
       "        text-align: right;\n",
       "    }\n",
       "</style>\n",
       "<table border=\"1\" class=\"dataframe\">\n",
       "  <thead>\n",
       "    <tr style=\"text-align: right;\">\n",
       "      <th></th>\n",
       "      <th>rideable_type</th>\n",
       "      <th>counts</th>\n",
       "    </tr>\n",
       "  </thead>\n",
       "  <tbody>\n",
       "    <tr>\n",
       "      <th>0</th>\n",
       "      <td>classic_bike</td>\n",
       "      <td>2767842</td>\n",
       "    </tr>\n",
       "    <tr>\n",
       "      <th>1</th>\n",
       "      <td>docked_bike</td>\n",
       "      <td>302796</td>\n",
       "    </tr>\n",
       "    <tr>\n",
       "      <th>2</th>\n",
       "      <td>electric_bike</td>\n",
       "      <td>861976</td>\n",
       "    </tr>\n",
       "  </tbody>\n",
       "</table>\n",
       "</div>"
      ],
      "text/plain": [
       "   rideable_type   counts\n",
       "0   classic_bike  2767842\n",
       "1    docked_bike   302796\n",
       "2  electric_bike   861976"
      ]
     },
     "execution_count": 52,
     "metadata": {},
     "output_type": "execute_result"
    }
   ],
   "source": [
    "# Grouping the bike ride type for member and casual\n",
    "df1 = pd.Series(dataset['rideable_type'].value_counts().sort_index())\n",
    "df1.index = pd.Index(df1.index)\n",
    "df1 = df1.rename_axis('rideable_type').reset_index(name = 'counts')\n",
    "df1"
   ]
  },
  {
   "cell_type": "code",
   "execution_count": 53,
   "id": "7b3e25fe",
   "metadata": {},
   "outputs": [
    {
     "data": {
      "image/png": "[encoded data removed]",
      "text/plain": [
       "<Figure size 640x480 with 1 Axes>"
      ]
     },
     "metadata": {},
     "output_type": "display_data"
    }
   ],
   "source": [
    "# Pie chart for the rideable_type for both member and casual\n",
    "plt.pie(df1['counts'],labels = df1['rideable_type'], autopct='%1.1f%%')\n",
    "plt.title('Rides Done By Different Bikes',fontsize=10)\n",
    "plt.show()"
   ]
  },
  {
   "cell_type": "code",
   "execution_count": 54,
   "id": "66049012",
   "metadata": {},
   "outputs": [
    {
     "data": {
      "text/html": [
       "<div>\n",
       "<style scoped>\n",
       "    .dataframe tbody tr th:only-of-type {\n",
       "        vertical-align: middle;\n",
       "    }\n",
       "\n",
       "    .dataframe tbody tr th {\n",
       "        vertical-align: top;\n",
       "    }\n",
       "\n",
       "    .dataframe thead th {\n",
       "        text-align: right;\n",
       "    }\n",
       "</style>\n",
       "<table border=\"1\" class=\"dataframe\">\n",
       "  <thead>\n",
       "    <tr style=\"text-align: right;\">\n",
       "      <th></th>\n",
       "      <th>rideable_type</th>\n",
       "      <th>counts</th>\n",
       "    </tr>\n",
       "  </thead>\n",
       "  <tbody>\n",
       "    <tr>\n",
       "      <th>0</th>\n",
       "      <td>classic_bike</td>\n",
       "      <td>1598937</td>\n",
       "    </tr>\n",
       "    <tr>\n",
       "      <th>1</th>\n",
       "      <td>electric_bike</td>\n",
       "      <td>437155</td>\n",
       "    </tr>\n",
       "    <tr>\n",
       "      <th>2</th>\n",
       "      <td>docked_bike</td>\n",
       "      <td>0</td>\n",
       "    </tr>\n",
       "  </tbody>\n",
       "</table>\n",
       "</div>"
      ],
      "text/plain": [
       "   rideable_type   counts\n",
       "0   classic_bike  1598937\n",
       "1  electric_bike   437155\n",
       "2    docked_bike        0"
      ]
     },
     "execution_count": 54,
     "metadata": {},
     "output_type": "execute_result"
    }
   ],
   "source": [
    "# Grouping the rideable_type for member only\n",
    "df2 = pd.Series(members['rideable_type'].value_counts())\n",
    "df2.index = pd.Index(df2.index)\n",
    "df2 = df2.rename_axis('rideable_type').reset_index(name = 'counts')\n",
    "df2"
   ]
  },
  {
   "cell_type": "code",
   "execution_count": 55,
   "id": "7e927a7f",
   "metadata": {},
   "outputs": [
    {
     "data": {
      "image/png": "[encoded data removed]",
      "text/plain": [
       "<Figure size 640x480 with 1 Axes>"
      ]
     },
     "metadata": {},
     "output_type": "display_data"
    }
   ],
   "source": [
    "# Pie chart for rideable_types of members only\n",
    "plt.pie(df2['counts'],labels = df2['rideable_type'],autopct ='%1.1f%%' )\n",
    "plt.title(\"Rides Done BY Members\",fontsize=10)\n",
    "plt.show()"
   ]
  },
  {
   "cell_type": "code",
   "execution_count": 56,
   "id": "eed11676",
   "metadata": {},
   "outputs": [
    {
     "data": {
      "text/html": [
       "<div>\n",
       "<style scoped>\n",
       "    .dataframe tbody tr th:only-of-type {\n",
       "        vertical-align: middle;\n",
       "    }\n",
       "\n",
       "    .dataframe tbody tr th {\n",
       "        vertical-align: top;\n",
       "    }\n",
       "\n",
       "    .dataframe thead th {\n",
       "        text-align: right;\n",
       "    }\n",
       "</style>\n",
       "<table border=\"1\" class=\"dataframe\">\n",
       "  <thead>\n",
       "    <tr style=\"text-align: right;\">\n",
       "      <th></th>\n",
       "      <th>rideable_type</th>\n",
       "      <th>counts</th>\n",
       "    </tr>\n",
       "  </thead>\n",
       "  <tbody>\n",
       "    <tr>\n",
       "      <th>0</th>\n",
       "      <td>classic_bike</td>\n",
       "      <td>1168905</td>\n",
       "    </tr>\n",
       "    <tr>\n",
       "      <th>1</th>\n",
       "      <td>electric_bike</td>\n",
       "      <td>424821</td>\n",
       "    </tr>\n",
       "    <tr>\n",
       "      <th>2</th>\n",
       "      <td>docked_bike</td>\n",
       "      <td>302796</td>\n",
       "    </tr>\n",
       "  </tbody>\n",
       "</table>\n",
       "</div>"
      ],
      "text/plain": [
       "   rideable_type   counts\n",
       "0   classic_bike  1168905\n",
       "1  electric_bike   424821\n",
       "2    docked_bike   302796"
      ]
     },
     "execution_count": 56,
     "metadata": {},
     "output_type": "execute_result"
    }
   ],
   "source": [
    "# Grouping the rideable_type for casual only\n",
    "df3 = pd.Series(casuals['rideable_type'].value_counts())\n",
    "df3.index = pd.Index(df3.index)\n",
    "df3 = df3.rename_axis('rideable_type').reset_index(name = 'counts')\n",
    "df3"
   ]
  },
  {
   "cell_type": "code",
   "execution_count": 57,
   "id": "0718c113",
   "metadata": {},
   "outputs": [
    {
     "data": {
      "image/png": "[encoded data removed]",
      "text/plain": [
       "<Figure size 640x480 with 1 Axes>"
      ]
     },
     "metadata": {},
     "output_type": "display_data"
    }
   ],
   "source": [
    "# Pie chart for rideable_types of members only\n",
    "plt.pie(df3['counts'],labels = df3['rideable_type'],autopct ='%1.1f%%')\n",
    "plt.title(\"Rides Done BY Casuals\",fontsize=10)\n",
    "plt.show()"
   ]
  },
  {
   "cell_type": "markdown",
   "id": "7f10016a",
   "metadata": {},
   "source": [
    "## **Act** \n",
    "\n",
    "In this stage we generally provide our recommendation to the stackholders.\n",
    "\n",
    "**Guiding questions**\n",
    "\n",
    "**1.** What is your final conclusion based on your analysis?\n",
    "\n",
    "* Casual riders take less number of rides but for longer durations.\n",
    "* Casual Riders are most active on weekends, and the months of June and July.\n",
    "* Casual riders mostly use bikes for recreational purposes.\n",
    "\n",
    "**2.** How could your team and business apply your insights?\n",
    "\n",
    "    We can see through the data that has been analyse and the findings.\n",
    "\n",
    "**3.** What next steps would you or your stakeholders take based on your findings?\n",
    "\n",
    "    The next step should to take the recommendation or policy that best fits the comapny.\n",
    "\n",
    "**4.** Is there additional data you could use to expand on your findings?\n",
    "\n",
    "    Yes, this data was just the one year. Data from at most five years ago would bring more credibility and strength to the analysis.\n",
    "\n",
    "**5.** what are your recommendation?\n",
    "\n",
    "    My recommendations are that:-\n",
    "    \n",
    "* Design riding packages by keeping recreational activities, weekend contests, and summer events in mind and offer special discounts and coupons on such events to encourage casual riders get annual membership.\n",
    "\n",
    "* Design seasonal packages, It allows flexibility and encourages casual riders to get membership for specific periods if they are not willing to pay for annual subscription.\n",
    "\n",
    "* Effective and efficient promotions by targeting casual riders at the busiest times and stations:\n",
    "* Days: Weekends\n",
    "* Months: February, June, and July\n",
    "* Stations: Streeter Dr & Grand Ave, Lake Shore Dr & Monroe St, Millennium Park\n",
    "\n",
    "* The company should ensure weekend packages to only annual members of the company that can encourage the casual riders to purchase the company's membership. These packages can include someone who is a member who can book a bike for a weekend getaway with a discount. since this package is only accessible to members so Due to the weekend packages, casual riders would be encouraged.\n",
    " \n",
    " \n",
    "\n",
    " **Key tasks**\n",
    "1. Create your portfolio.\n",
    "2. Add your case study.\n",
    "3. Practice presenting your case study to a friend or family member.\n",
    "\n",
    "**Deriverable**\n",
    "1. Your top three recommendations based on your analysis."
   ]
  },
  {
   "cell_type": "markdown",
   "id": "16c4de30",
   "metadata": {},
   "source": [
    "**THANK YOU**"
   ]
  },
  {
   "cell_type": "code",
   "execution_count": null,
   "id": "a3663f19",
   "metadata": {},
   "outputs": [],
   "source": []
  }
 ],
 "metadata": {
  "kernelspec": {
   "display_name": "Python 3 (ipykernel)",
   "language": "python",
   "name": "python3"
  },
  "language_info": {
   "codemirror_mode": {
    "name": "ipython",
    "version": 3
   },
   "file_extension": ".py",
   "mimetype": "text/x-python",
   "name": "python",
   "nbconvert_exporter": "python",
   "pygments_lexer": "ipython3",
   "version": "3.10.9"
  }
 },
 "nbformat": 4,
 "nbformat_minor": 5
}
